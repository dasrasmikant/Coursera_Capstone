{
 "cells": [
  {
   "cell_type": "markdown",
   "metadata": {},
   "source": [
    "# IBM Applied Data Science Capstone Course by Coursera\n",
    "\n",
    "### Opening a New Shopping Mall in Bhubaneswar, India\n",
    "\n",
    "- Build a dataframe of neighborhoods in Bhubaneswar, India by web scraping the data from Wikipedia page\n",
    "- Get the geographical coordinates of the neighborhoods\n",
    "- Obtain the venue data for the neighborhoods from Foursquare API\n",
    "- Explore and cluster the neighborhoods\n",
    "- Select the best cluster to open a new shopping mall"
   ]
  },
  {
   "cell_type": "markdown",
   "metadata": {},
   "source": [
    "#### Import libraries"
   ]
  },
  {
   "cell_type": "code",
   "execution_count": 3,
   "metadata": {},
   "outputs": [
    {
     "name": "stdout",
     "output_type": "stream",
     "text": [
      "Libraries imported.\n"
     ]
    }
   ],
   "source": [
    "import numpy as np # library to handle data in a vectorized manner\n",
    "\n",
    "import pandas as pd # library for data analsysis\n",
    "pd.set_option(\"display.max_columns\", None)\n",
    "pd.set_option(\"display.max_rows\", None)\n",
    "\n",
    "import json # library to handle JSON files\n",
    "\n",
    "from geopy.geocoders import Nominatim # convert an address into latitude and longitude values\n",
    "import geocoder # to get coordinates\n",
    "\n",
    "import requests # library to handle requests\n",
    "from bs4 import BeautifulSoup # library to parse HTML and XML documents\n",
    "\n",
    "from pandas.io.json import json_normalize # tranform JSON file into a pandas dataframe\n",
    "\n",
    "# Matplotlib and associated plotting modules\n",
    "import matplotlib.cm as cm\n",
    "import matplotlib.colors as colors\n",
    "\n",
    "# import k-means from clustering stage\n",
    "from sklearn.cluster import KMeans\n",
    "\n",
    "import folium # map rendering library\n",
    "import io\n",
    "print(\"Libraries imported.\")"
   ]
  },
  {
   "cell_type": "markdown",
   "metadata": {},
   "source": [
    "#### Import data from github page into a DataFrame"
   ]
  },
  {
   "cell_type": "code",
   "execution_count": 4,
   "metadata": {},
   "outputs": [
    {
     "name": "stdout",
     "output_type": "stream",
     "text": [
      "      Neighbourhood\n",
      "0      Bapuji Nagar\n",
      "1          Andharua\n",
      "2         BJB Nagar\n",
      "3           Hanspal\n",
      "4  Badaraghunathpur\n"
     ]
    }
   ],
   "source": [
    "url = \"https://raw.githubusercontent.com/dasrasmikant/Coursera_Capstone/main/Neighbourhood.csv\" # Make sure the url is the raw version of the file on GitHub\n",
    "download = requests.get(url).content\n",
    "\n",
    "# Reading the downloaded content and turning it into a pandas dataframe\n",
    "\n",
    "bh_df = pd.read_csv(io.StringIO(download.decode('utf-8')))\n",
    "\n",
    "# Printing out the first 5 rows of the dataframe\n",
    "\n",
    "print (bh_df.head())"
   ]
  },
  {
   "cell_type": "code",
   "execution_count": 5,
   "metadata": {},
   "outputs": [
    {
     "data": {
      "text/plain": [
       "(56, 1)"
      ]
     },
     "execution_count": 5,
     "metadata": {},
     "output_type": "execute_result"
    }
   ],
   "source": [
    "\n",
    "bh_df.shape"
   ]
  },
  {
   "cell_type": "code",
   "execution_count": 6,
   "metadata": {},
   "outputs": [
    {
     "data": {
      "text/plain": [
       "[20.26150000000007, 85.83193000000006]"
      ]
     },
     "execution_count": 6,
     "metadata": {},
     "output_type": "execute_result"
    }
   ],
   "source": [
    "def get_latilong(location):\n",
    "    lati_long_coords = None\n",
    "    while(lati_long_coords is None):\n",
    "        g = geocoder.arcgis('{}, Bhubaneswar, Odisha'.format(location))\n",
    "        lati_long_coords = g.latlng\n",
    "    return lati_long_coords\n",
    "    \n",
    "get_latilong('Bapuji Nagar')"
   ]
  },
  {
   "cell_type": "code",
   "execution_count": 8,
   "metadata": {},
   "outputs": [
    {
     "name": "stdout",
     "output_type": "stream",
     "text": [
      "Bapuji Nagar [20.26150000000007, 85.83193000000006]\n",
      "Andharua [20.319890000000044, 85.77184000000005]\n",
      "BJB Nagar [20.251050000000077, 85.84402000000006]\n",
      "Hanspal [20.31746000000004, 85.88205000000005]\n",
      "Badaraghunathpur [20.227350000000058, 85.73241000000007]\n",
      "Chandaka [20.366970000000038, 85.76606000000004]\n",
      "Orakal [20.268790000000024, 85.84100000000007]\n",
      "Baramunda [20.271310000000028, 85.80236000000008]\n",
      "Chandrasekharpur [20.327420000000075, 85.81540000000007]\n",
      "Mancheswar [20.321920000000034, 85.84625000000005]\n",
      "Bharatpur [20.30320000000006, 85.77822000000003]\n",
      "Gajapati Nagar [20.31224000000003, 85.82811000000004]\n",
      "Jatani [20.249900000000025, 85.82577000000003]\n",
      "Khordha [20.268790000000024, 85.84100000000007]\n",
      "Patia [20.355300000000057, 85.82766000000004]\n",
      "Kalinga Nagar [20.267270000000053, 85.75958000000008]\n",
      "Madhusudan Nagar [20.284050000000036, 85.83210000000008]\n",
      "Patrapada [20.242850000000033, 85.76710000000008]\n",
      "Khandagiri [20.26231000000007, 85.78550000000007]\n",
      "Nayapalli [20.288800000000037, 85.81258000000008]\n",
      "Phulnakhara [20.268790000000024, 85.84100000000007]\n",
      "Kharavela Nagar [20.275760000000048, 85.83971000000008]\n",
      "Old Town [20.240090000000066, 85.83279000000005]\n",
      "Raghunathpur [20.209220000000073, 85.83225000000004]\n",
      "Rasulgarh [20.302410000000066, 85.86578000000009]\n",
      "Urali [20.268790000000024, 85.84100000000007]\n",
      "Balianta [20.306340000000034, 85.88637000000006]\n",
      "Rasulgarh Square [20.29500002520858, 85.85749014772568]\n",
      "Uttara [20.268790000000024, 85.84100000000007]\n",
      "Barakuda [20.268790000000024, 85.84100000000007]\n",
      "Shankarpur [20.255800000000022, 85.77311000000003]\n",
      "Acharya Vihar [20.29505000000006, 85.82934000000006]\n",
      "Bhagabatipur [20.232660000000067, 85.75627000000009]\n",
      "Sundarpada [20.22825000000006, 85.81470000000007]\n",
      "Arya Village [20.25076000000007, 85.79203000000007]\n",
      "Bijipur [20.24033000000003, 85.74550000000005]\n",
      "Brahmeswarpatna [20.242210000000057, 85.84918000000005]\n",
      "Jagamara [20.255490000000066, 85.79786000000007]\n",
      "Jayadev Vihar [20.30514000000005, 85.81599000000006]\n",
      "Ganga Nagar [20.261580000000038, 85.82085000000006]\n",
      "Jagmohan Nagar [20.253070000000037, 85.80098000000004]\n",
      "Jayarsasan [20.268790000000024, 85.84100000000007]\n",
      "Gopabandhu Nagar [20.272970000000043, 85.81007000000005]\n",
      "Jamujhari [20.268790000000024, 85.84100000000007]\n",
      "Jharapada [20.275500000000022, 85.86185000000006]\n",
      "Gothapatna [20.28863000000007, 85.74281000000008]\n",
      "Janla [20.257090000000062, 85.83541000000008]\n",
      "Keshari Nagar [20.27245000000005, 85.82753000000008]\n",
      "Laxmi Sagar [20.266800000000046, 85.85297000000008]\n",
      "Rudrapur [20.322130000000072, 85.88153000000005]\n",
      "Madanpur [20.241790000000037, 85.80598000000003]\n",
      "Sahid Nagar [20.290550000000053, 85.84707000000003]\n",
      "Pahala [20.32633000000004, 85.88401000000005]\n",
      "Satya Nagar [20.28155000000004, 85.84729000000004]\n",
      "Pokhariput [20.24138000000005, 85.80591000000004]\n",
      "Satyabhamapur [20.28761000000003, 85.81411000000008]\n"
     ]
    }
   ],
   "source": [
    "# Retrieving location Co-ordinates\n",
    "location_names = bh_df['Neighbourhood']\n",
    "#coords = [get_latilong(location_name) for location_name in location_names.tolist() ]\n",
    "coords=[]\n",
    "for location_name in location_names.tolist():    \n",
    "    print(location_name,get_latilong(location_name))\n",
    "    coords.append(get_latilong(location_name))"
   ]
  },
  {
   "cell_type": "code",
   "execution_count": 9,
   "metadata": {},
   "outputs": [
    {
     "name": "stdout",
     "output_type": "stream",
     "text": [
      "       Neighbourhood  Latitude  Longitude\n",
      "0       Bapuji Nagar  20.26150   85.83193\n",
      "1           Andharua  20.31989   85.77184\n",
      "2          BJB Nagar  20.25105   85.84402\n",
      "3            Hanspal  20.31746   85.88205\n",
      "4   Badaraghunathpur  20.22735   85.73241\n",
      "5           Chandaka  20.36697   85.76606\n",
      "6             Orakal  20.26879   85.84100\n",
      "7          Baramunda  20.27131   85.80236\n",
      "8   Chandrasekharpur  20.32742   85.81540\n",
      "9         Mancheswar  20.32192   85.84625\n",
      "10         Bharatpur  20.30320   85.77822\n",
      "11    Gajapati Nagar  20.31224   85.82811\n",
      "12            Jatani  20.24990   85.82577\n",
      "13           Khordha  20.26879   85.84100\n",
      "14             Patia  20.35530   85.82766\n",
      "15     Kalinga Nagar  20.26727   85.75958\n",
      "16  Madhusudan Nagar  20.28405   85.83210\n",
      "17         Patrapada  20.24285   85.76710\n",
      "18        Khandagiri  20.26231   85.78550\n",
      "19         Nayapalli  20.28880   85.81258\n",
      "20       Phulnakhara  20.26879   85.84100\n",
      "21   Kharavela Nagar  20.27576   85.83971\n",
      "22          Old Town  20.24009   85.83279\n",
      "23      Raghunathpur  20.20922   85.83225\n",
      "24         Rasulgarh  20.30241   85.86578\n",
      "25             Urali  20.26879   85.84100\n",
      "26          Balianta  20.30634   85.88637\n",
      "27  Rasulgarh Square  20.29500   85.85749\n",
      "28            Uttara  20.26879   85.84100\n",
      "29          Barakuda  20.26879   85.84100\n",
      "30        Shankarpur  20.25580   85.77311\n",
      "31     Acharya Vihar  20.29505   85.82934\n",
      "32      Bhagabatipur  20.23266   85.75627\n",
      "33        Sundarpada  20.22825   85.81470\n",
      "34      Arya Village  20.25076   85.79203\n",
      "35           Bijipur  20.24033   85.74550\n",
      "36   Brahmeswarpatna  20.24221   85.84918\n",
      "37          Jagamara  20.25549   85.79786\n",
      "38     Jayadev Vihar  20.30514   85.81599\n",
      "39       Ganga Nagar  20.26158   85.82085\n",
      "40    Jagmohan Nagar  20.25307   85.80098\n",
      "41        Jayarsasan  20.26879   85.84100\n",
      "42  Gopabandhu Nagar  20.27297   85.81007\n",
      "43         Jamujhari  20.26879   85.84100\n",
      "44         Jharapada  20.27550   85.86185\n",
      "45        Gothapatna  20.28863   85.74281\n",
      "46             Janla  20.25709   85.83541\n",
      "47     Keshari Nagar  20.27245   85.82753\n",
      "48       Laxmi Sagar  20.26680   85.85297\n",
      "49          Rudrapur  20.32213   85.88153\n",
      "50          Madanpur  20.24179   85.80598\n",
      "51       Sahid Nagar  20.29055   85.84707\n",
      "52            Pahala  20.32633   85.88401\n",
      "53       Satya Nagar  20.28155   85.84729\n",
      "54        Pokhariput  20.24138   85.80591\n",
      "55     Satyabhamapur  20.28761   85.81411\n"
     ]
    }
   ],
   "source": [
    "# Adding Columns Latitude & Longitude\n",
    "df_coords = pd.DataFrame(coords, columns=['Latitude', 'Longitude'])\n",
    "bh_df['Latitude'] = df_coords['Latitude']\n",
    "bh_df['Longitude'] = df_coords['Longitude']\n",
    "print(bh_df)"
   ]
  },
  {
   "cell_type": "markdown",
   "metadata": {},
   "source": [
    "#### Create a map of Bhubaneswar with neighborhoods superimposed on top"
   ]
  },
  {
   "cell_type": "code",
   "execution_count": 13,
   "metadata": {},
   "outputs": [
    {
     "name": "stdout",
     "output_type": "stream",
     "text": [
      "The geograpical coordinate of Bhubaneswar, India 20.2667774, 85.8435592.\n"
     ]
    }
   ],
   "source": [
    "# get the coordinates of Bhubaneswar\n",
    "address = 'Bhubaneswar, Odisha, India'\n",
    "\n",
    "geolocator = Nominatim(user_agent=\"smy-application\")\n",
    "location = geolocator.geocode(address)\n",
    "latitude = location.latitude\n",
    "longitude = location.longitude\n",
    "print('The geograpical coordinate of Bhubaneswar, India {}, {}.'.format(latitude, longitude))"
   ]
  },
  {
   "cell_type": "code",
   "execution_count": 15,
   "metadata": {},
   "outputs": [
    {
     "ename": "KeyError",
     "evalue": "'Neighborhood'",
     "output_type": "error",
     "traceback": [
      "\u001b[1;31m---------------------------------------------------------------------------\u001b[0m",
      "\u001b[1;31mKeyError\u001b[0m                                  Traceback (most recent call last)",
      "\u001b[1;32mc:\\python38\\lib\\site-packages\\pandas\\core\\indexes\\base.py\u001b[0m in \u001b[0;36mget_loc\u001b[1;34m(self, key, method, tolerance)\u001b[0m\n\u001b[0;32m   2890\u001b[0m             \u001b[1;32mtry\u001b[0m\u001b[1;33m:\u001b[0m\u001b[1;33m\u001b[0m\u001b[1;33m\u001b[0m\u001b[0m\n\u001b[1;32m-> 2891\u001b[1;33m                 \u001b[1;32mreturn\u001b[0m \u001b[0mself\u001b[0m\u001b[1;33m.\u001b[0m\u001b[0m_engine\u001b[0m\u001b[1;33m.\u001b[0m\u001b[0mget_loc\u001b[0m\u001b[1;33m(\u001b[0m\u001b[0mcasted_key\u001b[0m\u001b[1;33m)\u001b[0m\u001b[1;33m\u001b[0m\u001b[1;33m\u001b[0m\u001b[0m\n\u001b[0m\u001b[0;32m   2892\u001b[0m             \u001b[1;32mexcept\u001b[0m \u001b[0mKeyError\u001b[0m \u001b[1;32mas\u001b[0m \u001b[0merr\u001b[0m\u001b[1;33m:\u001b[0m\u001b[1;33m\u001b[0m\u001b[1;33m\u001b[0m\u001b[0m\n",
      "\u001b[1;32mpandas\\_libs\\index.pyx\u001b[0m in \u001b[0;36mpandas._libs.index.IndexEngine.get_loc\u001b[1;34m()\u001b[0m\n",
      "\u001b[1;32mpandas\\_libs\\index.pyx\u001b[0m in \u001b[0;36mpandas._libs.index.IndexEngine.get_loc\u001b[1;34m()\u001b[0m\n",
      "\u001b[1;32mpandas\\_libs\\hashtable_class_helper.pxi\u001b[0m in \u001b[0;36mpandas._libs.hashtable.PyObjectHashTable.get_item\u001b[1;34m()\u001b[0m\n",
      "\u001b[1;32mpandas\\_libs\\hashtable_class_helper.pxi\u001b[0m in \u001b[0;36mpandas._libs.hashtable.PyObjectHashTable.get_item\u001b[1;34m()\u001b[0m\n",
      "\u001b[1;31mKeyError\u001b[0m: 'Neighborhood'",
      "\nThe above exception was the direct cause of the following exception:\n",
      "\u001b[1;31mKeyError\u001b[0m                                  Traceback (most recent call last)",
      "\u001b[1;32m<ipython-input-15-66710182c051>\u001b[0m in \u001b[0;36m<module>\u001b[1;34m\u001b[0m\n\u001b[0;32m      3\u001b[0m \u001b[1;33m\u001b[0m\u001b[0m\n\u001b[0;32m      4\u001b[0m \u001b[1;31m# add markers to map\u001b[0m\u001b[1;33m\u001b[0m\u001b[1;33m\u001b[0m\u001b[1;33m\u001b[0m\u001b[0m\n\u001b[1;32m----> 5\u001b[1;33m \u001b[1;32mfor\u001b[0m \u001b[0mlat\u001b[0m\u001b[1;33m,\u001b[0m \u001b[0mlng\u001b[0m\u001b[1;33m,\u001b[0m \u001b[0mneighborhood\u001b[0m \u001b[1;32min\u001b[0m \u001b[0mzip\u001b[0m\u001b[1;33m(\u001b[0m\u001b[0mbh_df\u001b[0m\u001b[1;33m[\u001b[0m\u001b[1;34m'Latitude'\u001b[0m\u001b[1;33m]\u001b[0m\u001b[1;33m,\u001b[0m \u001b[0mbh_df\u001b[0m\u001b[1;33m[\u001b[0m\u001b[1;34m'Longitude'\u001b[0m\u001b[1;33m]\u001b[0m\u001b[1;33m,\u001b[0m \u001b[0mbh_df\u001b[0m\u001b[1;33m[\u001b[0m\u001b[1;34m'Neighborhood'\u001b[0m\u001b[1;33m]\u001b[0m\u001b[1;33m)\u001b[0m\u001b[1;33m:\u001b[0m\u001b[1;33m\u001b[0m\u001b[1;33m\u001b[0m\u001b[0m\n\u001b[0m\u001b[0;32m      6\u001b[0m     \u001b[0mlabel\u001b[0m \u001b[1;33m=\u001b[0m \u001b[1;34m'{}'\u001b[0m\u001b[1;33m.\u001b[0m\u001b[0mformat\u001b[0m\u001b[1;33m(\u001b[0m\u001b[0mneighborhood\u001b[0m\u001b[1;33m)\u001b[0m\u001b[1;33m\u001b[0m\u001b[1;33m\u001b[0m\u001b[0m\n\u001b[0;32m      7\u001b[0m     \u001b[0mlabel\u001b[0m \u001b[1;33m=\u001b[0m \u001b[0mfolium\u001b[0m\u001b[1;33m.\u001b[0m\u001b[0mPopup\u001b[0m\u001b[1;33m(\u001b[0m\u001b[0mlabel\u001b[0m\u001b[1;33m,\u001b[0m \u001b[0mparse_html\u001b[0m\u001b[1;33m=\u001b[0m\u001b[1;32mTrue\u001b[0m\u001b[1;33m)\u001b[0m\u001b[1;33m\u001b[0m\u001b[1;33m\u001b[0m\u001b[0m\n",
      "\u001b[1;32mc:\\python38\\lib\\site-packages\\pandas\\core\\frame.py\u001b[0m in \u001b[0;36m__getitem__\u001b[1;34m(self, key)\u001b[0m\n\u001b[0;32m   2900\u001b[0m             \u001b[1;32mif\u001b[0m \u001b[0mself\u001b[0m\u001b[1;33m.\u001b[0m\u001b[0mcolumns\u001b[0m\u001b[1;33m.\u001b[0m\u001b[0mnlevels\u001b[0m \u001b[1;33m>\u001b[0m \u001b[1;36m1\u001b[0m\u001b[1;33m:\u001b[0m\u001b[1;33m\u001b[0m\u001b[1;33m\u001b[0m\u001b[0m\n\u001b[0;32m   2901\u001b[0m                 \u001b[1;32mreturn\u001b[0m \u001b[0mself\u001b[0m\u001b[1;33m.\u001b[0m\u001b[0m_getitem_multilevel\u001b[0m\u001b[1;33m(\u001b[0m\u001b[0mkey\u001b[0m\u001b[1;33m)\u001b[0m\u001b[1;33m\u001b[0m\u001b[1;33m\u001b[0m\u001b[0m\n\u001b[1;32m-> 2902\u001b[1;33m             \u001b[0mindexer\u001b[0m \u001b[1;33m=\u001b[0m \u001b[0mself\u001b[0m\u001b[1;33m.\u001b[0m\u001b[0mcolumns\u001b[0m\u001b[1;33m.\u001b[0m\u001b[0mget_loc\u001b[0m\u001b[1;33m(\u001b[0m\u001b[0mkey\u001b[0m\u001b[1;33m)\u001b[0m\u001b[1;33m\u001b[0m\u001b[1;33m\u001b[0m\u001b[0m\n\u001b[0m\u001b[0;32m   2903\u001b[0m             \u001b[1;32mif\u001b[0m \u001b[0mis_integer\u001b[0m\u001b[1;33m(\u001b[0m\u001b[0mindexer\u001b[0m\u001b[1;33m)\u001b[0m\u001b[1;33m:\u001b[0m\u001b[1;33m\u001b[0m\u001b[1;33m\u001b[0m\u001b[0m\n\u001b[0;32m   2904\u001b[0m                 \u001b[0mindexer\u001b[0m \u001b[1;33m=\u001b[0m \u001b[1;33m[\u001b[0m\u001b[0mindexer\u001b[0m\u001b[1;33m]\u001b[0m\u001b[1;33m\u001b[0m\u001b[1;33m\u001b[0m\u001b[0m\n",
      "\u001b[1;32mc:\\python38\\lib\\site-packages\\pandas\\core\\indexes\\base.py\u001b[0m in \u001b[0;36mget_loc\u001b[1;34m(self, key, method, tolerance)\u001b[0m\n\u001b[0;32m   2891\u001b[0m                 \u001b[1;32mreturn\u001b[0m \u001b[0mself\u001b[0m\u001b[1;33m.\u001b[0m\u001b[0m_engine\u001b[0m\u001b[1;33m.\u001b[0m\u001b[0mget_loc\u001b[0m\u001b[1;33m(\u001b[0m\u001b[0mcasted_key\u001b[0m\u001b[1;33m)\u001b[0m\u001b[1;33m\u001b[0m\u001b[1;33m\u001b[0m\u001b[0m\n\u001b[0;32m   2892\u001b[0m             \u001b[1;32mexcept\u001b[0m \u001b[0mKeyError\u001b[0m \u001b[1;32mas\u001b[0m \u001b[0merr\u001b[0m\u001b[1;33m:\u001b[0m\u001b[1;33m\u001b[0m\u001b[1;33m\u001b[0m\u001b[0m\n\u001b[1;32m-> 2893\u001b[1;33m                 \u001b[1;32mraise\u001b[0m \u001b[0mKeyError\u001b[0m\u001b[1;33m(\u001b[0m\u001b[0mkey\u001b[0m\u001b[1;33m)\u001b[0m \u001b[1;32mfrom\u001b[0m \u001b[0merr\u001b[0m\u001b[1;33m\u001b[0m\u001b[1;33m\u001b[0m\u001b[0m\n\u001b[0m\u001b[0;32m   2894\u001b[0m \u001b[1;33m\u001b[0m\u001b[0m\n\u001b[0;32m   2895\u001b[0m         \u001b[1;32mif\u001b[0m \u001b[0mtolerance\u001b[0m \u001b[1;32mis\u001b[0m \u001b[1;32mnot\u001b[0m \u001b[1;32mNone\u001b[0m\u001b[1;33m:\u001b[0m\u001b[1;33m\u001b[0m\u001b[1;33m\u001b[0m\u001b[0m\n",
      "\u001b[1;31mKeyError\u001b[0m: 'Neighborhood'"
     ]
    }
   ],
   "source": [
    "# create map of Bhubaneswar using latitude and longitude values\n",
    "map_bh = folium.Map(location=[latitude, longitude], zoom_start=11)\n",
    "\n",
    "# add markers to map\n",
    "for lat, lng, neighborhood in zip(bh_df['Latitude'], bh_df['Longitude'], bh_df['Neighborhood']):\n",
    "    label = '{}'.format(neighborhood)\n",
    "    label = folium.Popup(label, parse_html=True)\n",
    "    folium.CircleMarker(\n",
    "        [lat, lng],\n",
    "        radius=5,\n",
    "        popup=label,\n",
    "        color='blue',\n",
    "        fill=True,\n",
    "        fill_color='#3186cc',\n",
    "        fill_opacity=0.7).add_to(map_kl)  \n",
    "    \n",
    "map_bh"
   ]
  },
  {
   "cell_type": "code",
   "execution_count": null,
   "metadata": {},
   "outputs": [],
   "source": []
  }
 ],
 "metadata": {
  "kernelspec": {
   "display_name": "Python 3",
   "language": "python",
   "name": "python3"
  },
  "language_info": {
   "codemirror_mode": {
    "name": "ipython",
    "version": 3
   },
   "file_extension": ".py",
   "mimetype": "text/x-python",
   "name": "python",
   "nbconvert_exporter": "python",
   "pygments_lexer": "ipython3",
   "version": "3.8.3"
  }
 },
 "nbformat": 4,
 "nbformat_minor": 4
}
