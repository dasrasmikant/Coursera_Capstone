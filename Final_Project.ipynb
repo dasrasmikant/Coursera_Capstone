{
 "cells": [
  {
   "cell_type": "markdown",
   "metadata": {},
   "source": [
    "# IBM Applied Data Science Capstone Course by Coursera¶\n"
   ]
  },
  {
   "cell_type": "markdown",
   "metadata": {},
   "source": [
    "### Opening a New Shopping Mall in Bhubaneswar, India\n",
    "\n",
    "- Build a dataframe of neighborhoods in Bhubaneswar, India by web scraping the data from Wikipedia page\n",
    "- Get the geographical coordinates of the neighborhoods\n",
    "- Obtain the venue data for the neighborhoods from Foursquare API\n",
    "- Explore and cluster the neighborhoods\n",
    "- Select the best cluster to open a new shopping mall"
   ]
  },
  {
   "cell_type": "markdown",
   "metadata": {},
   "source": [
    "#### Import libraries"
   ]
  },
  {
   "cell_type": "code",
   "execution_count": 2,
   "metadata": {},
   "outputs": [
    {
     "name": "stdout",
     "output_type": "stream",
     "text": [
      "Libraries imported.\n"
     ]
    }
   ],
   "source": [
    "import numpy as np # library to handle data in a vectorized manner\n",
    "\n",
    "import pandas as pd # library for data analsysis\n",
    "pd.set_option(\"display.max_columns\", None)\n",
    "pd.set_option(\"display.max_rows\", None)\n",
    "\n",
    "import json # library to handle JSON files\n",
    "\n",
    "from geopy.geocoders import Nominatim # convert an address into latitude and longitude values\n",
    "import geocoder # to get coordinates\n",
    "\n",
    "import requests # library to handle requests\n",
    "from bs4 import BeautifulSoup # library to parse HTML and XML documents\n",
    "\n",
    "from pandas.io.json import json_normalize # tranform JSON file into a pandas dataframe\n",
    "\n",
    "# Matplotlib and associated plotting modules\n",
    "import matplotlib.cm as cm\n",
    "import matplotlib.colors as colors\n",
    "\n",
    "# import k-means from clustering stage\n",
    "from sklearn.cluster import KMeans\n",
    "\n",
    "import folium # map rendering library\n",
    "\n",
    "print(\"Libraries imported.\")"
   ]
  },
  {
   "cell_type": "markdown",
   "metadata": {},
   "source": [
    "#### Scrap data from Wikipedia page into a DataFrame"
   ]
  },
  {
   "cell_type": "code",
   "execution_count": 5,
   "metadata": {},
   "outputs": [],
   "source": [
    "# send the GET request\n",
    "data = requests.get(\"https://en.wikipedia.org/wiki/List_of_neighbourhoods_in_Bhubaneswar\").text"
   ]
  },
  {
   "cell_type": "code",
   "execution_count": 6,
   "metadata": {},
   "outputs": [],
   "source": [
    "# parse data from the html into a beautifulsoup object\n",
    "soup = BeautifulSoup(data, 'html.parser')"
   ]
  },
  {
   "cell_type": "code",
   "execution_count": 7,
   "metadata": {},
   "outputs": [],
   "source": [
    "# create a list to store neighborhood data\n",
    "neighborhoodList = []"
   ]
  },
  {
   "cell_type": "code",
   "execution_count": 17,
   "metadata": {},
   "outputs": [
    {
     "name": "stdout",
     "output_type": "stream",
     "text": [
      "<li class=\"toclevel-1 tocsection-1\"><a href=\"#North_Bhubaneswar\"><span class=\"tocnumber\">1</span> <span class=\"toctext\">North Bhubaneswar</span></a>\n",
      "<ul>\n",
      "<li class=\"toclevel-2 tocsection-2\"><a href=\"#Near_by_Villagess\"><span class=\"tocnumber\">1.1</span> <span class=\"toctext\">Near by Villagess</span></a></li>\n",
      "</ul>\n",
      "</li>\n",
      "<li class=\"toclevel-2 tocsection-2\"><a href=\"#Near_by_Villagess\"><span class=\"tocnumber\">1.1</span> <span class=\"toctext\">Near by Villagess</span></a></li>\n",
      "<li class=\"toclevel-1 tocsection-3\"><a href=\"#Central_Bhubaneswar\"><span class=\"tocnumber\">2</span> <span class=\"toctext\">Central Bhubaneswar</span></a></li>\n",
      "<li class=\"toclevel-1 tocsection-4\"><a href=\"#South_Bhubaneswar\"><span class=\"tocnumber\">3</span> <span class=\"toctext\">South Bhubaneswar</span></a></li>\n",
      "<li class=\"toclevel-1 tocsection-5\"><a href=\"#Western_Bhubaneswar\"><span class=\"tocnumber\">4</span> <span class=\"toctext\">Western Bhubaneswar</span></a>\n",
      "<ul>\n",
      "<li class=\"toclevel-2 tocsection-6\"><a href=\"#Fringes\"><span class=\"tocnumber\">4.1</span> <span class=\"toctext\">Fringes</span></a></li>\n",
      "</ul>\n",
      "</li>\n",
      "<li class=\"toclevel-2 tocsection-6\"><a href=\"#Fringes\"><span class=\"tocnumber\">4.1</span> <span class=\"toctext\">Fringes</span></a></li>\n",
      "<li class=\"toclevel-1 tocsection-7\"><a href=\"#Eastern_fringes\"><span class=\"tocnumber\">5</span> <span class=\"toctext\">Eastern fringes</span></a></li>\n",
      "<li class=\"toclevel-1 tocsection-8\"><a href=\"#Southern_fringes\"><span class=\"tocnumber\">6</span> <span class=\"toctext\">Southern fringes</span></a></li>\n",
      "<li class=\"toclevel-1 tocsection-9\"><a href=\"#References\"><span class=\"tocnumber\">7</span> <span class=\"toctext\">References</span></a></li>\n",
      "<li><a href=\"/wiki/Chandrasekharpur\" title=\"Chandrasekharpur\">Chandrasekharpur</a>\n",
      "<ul><li>Damana</li>\n",
      "<li>Infocity</li>\n",
      "<li>Sailashree Vihar</li>\n",
      "<li>Niladri Vihar</li>\n",
      "<li>Rail Vihar</li>\n",
      "<li>Nalco Nagar</li>\n",
      "<li>Gajapati Nagar</li></ul></li>\n",
      "<li>Damana</li>\n",
      "<li>Infocity</li>\n",
      "<li>Sailashree Vihar</li>\n",
      "<li>Niladri Vihar</li>\n",
      "<li>Rail Vihar</li>\n",
      "<li>Nalco Nagar</li>\n",
      "<li>Gajapati Nagar</li>\n",
      "<li>Vani Vihar</li>\n",
      "<li>Salia Sahi</li>\n",
      "<li>Jaydev Vihar</li>\n",
      "<li>IRC  Village</li>\n",
      "<li><a href=\"/wiki/Patia\" title=\"Patia\">Patia</a></li>\n",
      "<li>Barimund</li>\n",
      "<li>Raghunathpur</li>\n",
      "<li>Tangibanta</li>\n",
      "<li>Jaripatna</li>\n",
      "<li>Kalarahanga</li>\n",
      "<li>Injana</li>\n",
      "<li>Singada</li>\n",
      "<li>Rokat</li>\n",
      "<li>Kalajhari</li>\n",
      "<li>Barang</li>\n",
      "<li>Patharagadia</li>\n",
      "<li>Chandaka</li>\n",
      "<li>Andharua</li>\n",
      "<li>A G Colony</li>\n",
      "<li>Acharya Vihar</li>\n",
      "<li>Ashok Nagar</li>\n",
      "<li>Bapuji Nagar</li>\n",
      "<li>Bhauma Nagar</li>\n",
      "<li>Bhoi Nagar</li>\n",
      "<li>Ekamra Vihar</li>\n",
      "<li>Forest Park</li>\n",
      "<li>Ganga Nagar</li>\n",
      "<li>Keshari Nagar</li>\n",
      "<li>Kharavella Nagar</li>\n",
      "<li>Madhusudan Nagar</li>\n",
      "<li>Master Canteen</li>\n",
      "<li><a href=\"/wiki/Saheed_Nagar\" title=\"Saheed Nagar\">Saheed Nagar</a></li>\n",
      "<li>Satya Nagar</li>\n",
      "<li>Surya Nagar</li>\n",
      "<li>Unit -1</li>\n",
      "<li>Nayapalli</li>\n",
      "<li><a href=\"/wiki/Samantarapur\" title=\"Samantarapur\">Samantarapur</a></li>\n",
      "<li>BJB Nagar</li>\n",
      "<li>Rajarani Colony</li>\n",
      "<li>Pandav Nagar</li>\n",
      "<li>Brahmeswar Bagh</li>\n",
      "<li>Lingaraj Nagar</li>\n",
      "<li>Gouri Nagar</li>\n",
      "<li>Bhimatangi</li>\n",
      "<li>Kapileswar</li>\n",
      "<li>Old Town</li>\n",
      "<li>Baramunda</li>\n",
      "<li>Gopabandhu Nagar</li>\n",
      "<li>Delta Colony</li>\n",
      "<li>Surya Nagar</li>\n",
      "<li>CRPF</li>\n",
      "<li>Jagmara</li>\n",
      "<li>Khandagiri</li>\n",
      "<li>Gandamunda</li>\n",
      "<li>Pokhariput</li>\n",
      "<li>Palaspali</li>\n",
      "<li>Bhimatangi</li>\n",
      "<li>Dumduma</li>\n",
      "<li>Sundarpada</li>\n",
      "<li>Balabhadrapur(Sundarpada-Jatani Road)</li>\n",
      "<li>Kantilo(Sundarpada-Jatani Road)</li>\n",
      "<li>Ebaranga(Sundarpada-Jatani Road)</li>\n",
      "<li>Patrapada</li>\n",
      "<li>Tomandao</li>\n",
      "<li>Kalinga Nagar</li>\n",
      "<li>Ghatikia</li>\n",
      "<li>Mancheswar</li>\n",
      "<li>VSS Nagar</li>\n",
      "<li>Rasulgarh</li>\n",
      "<li>Palasuni</li>\n",
      "<li>Satya Vihar</li>\n",
      "<li>Jharpada</li>\n",
      "<li><a href=\"/wiki/Laxmisagar\" title=\"Laxmisagar\">Laxmisagar</a></li>\n",
      "<li>Pandra</li>\n",
      "<li>Tamando</li>\n",
      "<li>Kalinga Nagar</li>\n",
      "<li>Janala</li>\n",
      "<li>Dumuduma</li>\n",
      "<li>Jagamara</li>\n",
      "<li>Uttara</li>\n",
      "<li id=\"cite_note-1\"><span class=\"mw-cite-backlink\"><b><a href=\"#cite_ref-1\">^</a></b></span> <span class=\"reference-text\"><cite class=\"citation web cs1\"><a class=\"external text\" href=\"https://web.archive.org/web/20120225123639/http://www.mustseeindia.com/Bhubaneswar\" rel=\"nofollow\">\"BHUBANESWAR Travel Guide\"</a>. <i>mustseeindia.com</i>. 2012. Archived from <a class=\"external text\" href=\"http://www.mustseeindia.com/Bhubaneswar\" rel=\"nofollow\">the original</a> on 25 February 2012<span class=\"reference-accessdate\">. Retrieved <span class=\"nowrap\">2 April</span> 2012</span>. <q>Bhubaneswar , Orissa</q></cite><span class=\"Z3988\" title=\"ctx_ver=Z39.88-2004&amp;rft_val_fmt=info%3Aofi%2Ffmt%3Akev%3Amtx%3Ajournal&amp;rft.genre=unknown&amp;rft.jtitle=mustseeindia.com&amp;rft.atitle=BHUBANESWAR+Travel+Guide&amp;rft.date=2012&amp;rft_id=http%3A%2F%2Fwww.mustseeindia.com%2FBhubaneswar&amp;rfr_id=info%3Asid%2Fen.wikipedia.org%3AList+of+neighbourhoods+in+Bhubaneswar\"></span><style data-mw-deduplicate=\"TemplateStyles:r982806391\">.mw-parser-output cite.citation{font-style:inherit}.mw-parser-output .citation q{quotes:\"\\\"\"\"\\\"\"\"'\"\"'\"}.mw-parser-output .id-lock-free a,.mw-parser-output .citation .cs1-lock-free a{background:linear-gradient(transparent,transparent),url(\"//upload.wikimedia.org/wikipedia/commons/6/65/Lock-green.svg\")right 0.1em center/9px no-repeat}.mw-parser-output .id-lock-limited a,.mw-parser-output .id-lock-registration a,.mw-parser-output .citation .cs1-lock-limited a,.mw-parser-output .citation .cs1-lock-registration a{background:linear-gradient(transparent,transparent),url(\"//upload.wikimedia.org/wikipedia/commons/d/d6/Lock-gray-alt-2.svg\")right 0.1em center/9px no-repeat}.mw-parser-output .id-lock-subscription a,.mw-parser-output .citation .cs1-lock-subscription a{background:linear-gradient(transparent,transparent),url(\"//upload.wikimedia.org/wikipedia/commons/a/aa/Lock-red-alt-2.svg\")right 0.1em center/9px no-repeat}.mw-parser-output .cs1-subscription,.mw-parser-output .cs1-registration{color:#555}.mw-parser-output .cs1-subscription span,.mw-parser-output .cs1-registration span{border-bottom:1px dotted;cursor:help}.mw-parser-output .cs1-ws-icon a{background:linear-gradient(transparent,transparent),url(\"//upload.wikimedia.org/wikipedia/commons/4/4c/Wikisource-logo.svg\")right 0.1em center/12px no-repeat}.mw-parser-output code.cs1-code{color:inherit;background:inherit;border:none;padding:inherit}.mw-parser-output .cs1-hidden-error{display:none;font-size:100%}.mw-parser-output .cs1-visible-error{font-size:100%}.mw-parser-output .cs1-maint{display:none;color:#33aa33;margin-left:0.3em}.mw-parser-output .cs1-subscription,.mw-parser-output .cs1-registration,.mw-parser-output .cs1-format{font-size:95%}.mw-parser-output .cs1-kern-left,.mw-parser-output .cs1-kern-wl-left{padding-left:0.2em}.mw-parser-output .cs1-kern-right,.mw-parser-output .cs1-kern-wl-right{padding-right:0.2em}.mw-parser-output .citation .mw-selflink{font-weight:inherit}</style></span>\n",
      "</li>\n",
      "<li id=\"cite_note-R._P._Mohapatra,_Page_47-2\"><span class=\"mw-cite-backlink\"><b><a href=\"#cite_ref-R._P._Mohapatra,_Page_47_2-0\">^</a></b></span> <span class=\"reference-text\"><a href=\"/wiki/Ramesh_Prasad_Mohapatra\" title=\"Ramesh Prasad Mohapatra\">Ramesh Prasad Mohapatra</a>, <i>Archaeology in Orissa</i>, Vol I, Page 47, B. R. Publishing Corporation, Delhi, 1986, <link href=\"mw-data:TemplateStyles:r982806391\" rel=\"mw-deduplicated-inline-style\"/><a class=\"mw-redirect\" href=\"/wiki/ISBN_(identifier)\" title=\"ISBN (identifier)\">ISBN</a> <a href=\"/wiki/Special:BookSources/81-7018-346-4\" title=\"Special:BookSources/81-7018-346-4\">81-7018-346-4</a></span>\n",
      "</li>\n",
      "<li id=\"cite_note-3\"><span class=\"mw-cite-backlink\"><b><a href=\"#cite_ref-3\">^</a></b></span> <span class=\"reference-text\"><a class=\"external text\" href=\"http://www.studio-basel.com/assets/files/files/04_atlas_web.pdf\" rel=\"nofollow\">Planned Cities in India</a></span>\n",
      "</li>\n",
      "<li id=\"cite_note-4\"><span class=\"mw-cite-backlink\"><b><a href=\"#cite_ref-4\">^</a></b></span> <span class=\"reference-text\"><a class=\"external text\" href=\"http://www.orissalinks.com/bigfiles/Draft%20Proposal_CDP%20BDPA-2008/Pre%20Content/Preface.pdf\" rel=\"nofollow\">Preface of the Comprehensive Development Plan for the Bhubaneswar-Cuttack Urban Complex</a></span>\n",
      "</li>\n",
      "<li id=\"cite_note-5\"><span class=\"mw-cite-backlink\"><b><a href=\"#cite_ref-5\">^</a></b></span> <span class=\"reference-text\"><cite class=\"citation web cs1\"><a class=\"external text\" href=\"https://archive.is/20130105180023/http://www.world-gazetteer.com/wg.php?x=&amp;men=gcis&amp;lng=en&amp;dat=80&amp;geo=-104&amp;srt=npan&amp;col=aohdq&amp;msz=1500&amp;pt=a&amp;va=x&amp;srt=pnan\" rel=\"nofollow\">\"world-gazetteer\"</a>. Archived from <a class=\"external text\" href=\"http://www.world-gazetteer.com/wg.php?x=&amp;men=gcis&amp;lng=en&amp;dat=80&amp;geo=-104&amp;srt=npan&amp;col=aohdq&amp;msz=1500&amp;pt=a&amp;va=x&amp;srt=pnan\" rel=\"nofollow\">the original</a> on 5 January 2013<span class=\"reference-accessdate\">. Retrieved <span class=\"nowrap\">6 November</span> 2011</span>.</cite><span class=\"Z3988\" title=\"ctx_ver=Z39.88-2004&amp;rft_val_fmt=info%3Aofi%2Ffmt%3Akev%3Amtx%3Abook&amp;rft.genre=unknown&amp;rft.btitle=world-gazetteer&amp;rft_id=http%3A%2F%2Fwww.world-gazetteer.com%2Fwg.php%3Fx%3D%26men%3Dgcis%26lng%3Den%26dat%3D80%26geo%3D-104%26srt%3Dnpan%26col%3Daohdq%26msz%3D1500%26pt%3Da%26va%3Dx%26srt%3Dpnan&amp;rfr_id=info%3Asid%2Fen.wikipedia.org%3AList+of+neighbourhoods+in+Bhubaneswar\"></span><link href=\"mw-data:TemplateStyles:r982806391\" rel=\"mw-deduplicated-inline-style\"/></span>\n",
      "</li>\n"
     ]
    }
   ],
   "source": [
    "# append the data into the list\n",
    "for row in soup.find_all(\"div\", class_=\"mw-parser-output\")[0].findAll(\"li\"):\n",
    "    #neighborhoodList.append(row.text)\n",
    "    print(row)"
   ]
  },
  {
   "cell_type": "code",
   "execution_count": null,
   "metadata": {},
   "outputs": [],
   "source": []
  }
 ],
 "metadata": {
  "kernelspec": {
   "display_name": "Python 3",
   "language": "python",
   "name": "python3"
  },
  "language_info": {
   "codemirror_mode": {
    "name": "ipython",
    "version": 3
   },
   "file_extension": ".py",
   "mimetype": "text/x-python",
   "name": "python",
   "nbconvert_exporter": "python",
   "pygments_lexer": "ipython3",
   "version": "3.8.3"
  }
 },
 "nbformat": 4,
 "nbformat_minor": 4
}
